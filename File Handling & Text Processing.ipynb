{
 "cells": [
  {
   "cell_type": "code",
   "execution_count": 3,
   "id": "3f853440-0de6-4f9a-ab94-184efe6c0f7b",
   "metadata": {},
   "outputs": [],
   "source": [
    "import nltk"
   ]
  },
  {
   "cell_type": "code",
   "execution_count": 6,
   "id": "b4d273c1-997d-4f33-ac92-1a3d382bb1b2",
   "metadata": {
    "scrolled": true
   },
   "outputs": [
    {
     "name": "stdout",
     "output_type": "stream",
     "text": [
      "*** Introductory Examples for the NLTK Book ***\n",
      "Loading text1, ..., text9 and sent1, ..., sent9\n",
      "Type the name of the text or sentence to view it.\n",
      "Type: 'texts()' or 'sents()' to list the materials.\n",
      "text1: Moby Dick by Herman Melville 1851\n",
      "text2: Sense and Sensibility by Jane Austen 1811\n",
      "text3: The Book of Genesis\n",
      "text4: Inaugural Address Corpus\n",
      "text5: Chat Corpus\n",
      "text6: Monty Python and the Holy Grail\n",
      "text7: Wall Street Journal\n",
      "text8: Personals Corpus\n",
      "text9: The Man Who Was Thursday by G . K . Chesterton 1908\n"
     ]
    }
   ],
   "source": [
    "from nltk.book import * "
   ]
  },
  {
   "cell_type": "code",
   "execution_count": 10,
   "id": "bd121232-d37a-4c3e-86eb-ffd904a0cd40",
   "metadata": {},
   "outputs": [],
   "source": [
    "from collections import Counter"
   ]
  },
  {
   "cell_type": "code",
   "execution_count": 12,
   "id": "1ac8869c-a813-4535-8846-b5030c204dbc",
   "metadata": {},
   "outputs": [
    {
     "data": {
      "text/plain": [
       "<Text: Monty Python and the Holy Grail>"
      ]
     },
     "execution_count": 12,
     "metadata": {},
     "output_type": "execute_result"
    }
   ],
   "source": [
    "text6"
   ]
  },
  {
   "cell_type": "code",
   "execution_count": 71,
   "id": "898070d7-6604-4b95-bea5-e3e1bcdedc04",
   "metadata": {},
   "outputs": [],
   "source": [
    "# Converting text6 to a string\n",
    "text6_str = \" \".join(text6)"
   ]
  },
  {
   "cell_type": "code",
   "execution_count": 69,
   "id": "88a88157-9a54-4365-9c7e-f31bfd8dcfbe",
   "metadata": {},
   "outputs": [
    {
     "name": "stdout",
     "output_type": "stream",
     "text": [
      "The word count of text6 is: 16967\n"
     ]
    }
   ],
   "source": [
    "# Finding the word count\n",
    "word_count = len(text6)\n",
    "print('The word count of text6 is:', word_count)"
   ]
  },
  {
   "cell_type": "code",
   "execution_count": 67,
   "id": "503b2034-0b34-496d-95bf-bb3fa8b01c6a",
   "metadata": {},
   "outputs": [
    {
     "name": "stdout",
     "output_type": "stream",
     "text": [
      "The most common words are: [('the', 334), ('you', 265), ('arthur', 261), ('i', 260), ('a', 238), ('and', 185), ('of', 178), ('to', 151), ('s', 145), ('it', 142)]\n"
     ]
    }
   ],
   "source": [
    "# Finding the 10 most common words\n",
    "words = [word.lower() for word in text6 if word.isalpha()]  # filter out non-alphabetic tokens\n",
    "common_words = Counter(words).most_common(10)\n",
    "print(\"The most common words are:\", common_words)"
   ]
  },
  {
   "cell_type": "code",
   "execution_count": 65,
   "id": "7a8d171e-debf-4ef4-a969-90acdee608e5",
   "metadata": {},
   "outputs": [
    {
     "name": "stdout",
     "output_type": "stream",
     "text": [
      "The longest word is: automatically\n"
     ]
    }
   ],
   "source": [
    "# Finding the longest word\n",
    "longest_word = max(words, key=len)\n",
    "print(f\"The longest word is: {longest_word}\")"
   ]
  },
  {
   "cell_type": "code",
   "execution_count": 63,
   "id": "0930f036-2a2b-4703-9b97-3ce002be5c02",
   "metadata": {},
   "outputs": [
    {
     "name": "stdout",
     "output_type": "stream",
     "text": [
      "The average word length is: 4.09\n"
     ]
    }
   ],
   "source": [
    "# Calculating the average word length\n",
    "average_word_length = sum(len(word) for word in words) / len(words)\n",
    "print(f\"The average word length is: {average_word_length:.2f}\")"
   ]
  },
  {
   "cell_type": "code",
   "execution_count": 75,
   "id": "7a6f7f9d-10b2-4bae-9718-3c0c676056d3",
   "metadata": {},
   "outputs": [
    {
     "name": "stdout",
     "output_type": "stream",
     "text": [
      "The occurrences of words starting with 'the' are: 451\n"
     ]
    }
   ],
   "source": [
    "# Counting occurrences of words starting with \"the\"\n",
    "pattern_count = sum(1 for word in words if word.startswith('the'))\n",
    "print(f\"The occurrences of words starting with 'the' are: {pattern_count}\")"
   ]
  },
  {
   "cell_type": "code",
   "execution_count": 79,
   "id": "0bc32559-a6a2-4688-9b4f-e8a848c0cad6",
   "metadata": {},
   "outputs": [],
   "source": [
    "# Preparing the results to export to a csv file\n",
    "results = f\"Word Count: {word_count}\\n\\n\"\n",
    "results += \"10 Most Common Words:\\n\"\n",
    "for word, freq in common_words:\n",
    "    results += f\"{word}: {freq}\\n\"\n",
    "results += f\"\\nLongest Word: {longest_word}\\n\"\n",
    "results += f\"Average Word Length: {average_word_length:.2f}\\n\"\n",
    "results += f\"Occurrences of words starting with 'the': {pattern_count}\\n\""
   ]
  },
  {
   "cell_type": "code",
   "execution_count": 81,
   "id": "afa4af92-ea95-4d31-95be-c28fa4b361bf",
   "metadata": {},
   "outputs": [],
   "source": [
    "# Write the results to a file\n",
    "output_file_path = 'text6_analysis.txt'\n",
    "with open(output_file_path, 'w') as file:\n",
    "    file.write(results)"
   ]
  },
  {
   "cell_type": "code",
   "execution_count": null,
   "id": "ab9d78a7-5204-4d43-9fbe-65b08bb70d42",
   "metadata": {},
   "outputs": [],
   "source": []
  }
 ],
 "metadata": {
  "kernelspec": {
   "display_name": "Python 3 (ipykernel)",
   "language": "python",
   "name": "python3"
  },
  "language_info": {
   "codemirror_mode": {
    "name": "ipython",
    "version": 3
   },
   "file_extension": ".py",
   "mimetype": "text/x-python",
   "name": "python",
   "nbconvert_exporter": "python",
   "pygments_lexer": "ipython3",
   "version": "3.11.5"
  }
 },
 "nbformat": 4,
 "nbformat_minor": 5
}
