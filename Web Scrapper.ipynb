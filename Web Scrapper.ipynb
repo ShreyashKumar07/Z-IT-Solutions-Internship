{
 "cells": [
  {
   "cell_type": "code",
   "execution_count": 3,
   "id": "a215bc81-f947-4333-a6fb-f11426fede73",
   "metadata": {},
   "outputs": [],
   "source": [
    "import requests\n",
    "from bs4 import BeautifulSoup\n",
    "import csv"
   ]
  },
  {
   "cell_type": "code",
   "execution_count": 5,
   "id": "bc42eb19-581b-46fb-8a7b-056750ae6cf7",
   "metadata": {},
   "outputs": [],
   "source": [
    "url = \"https://www.bbc.com/news\""
   ]
  },
  {
   "cell_type": "code",
   "execution_count": 7,
   "id": "846686d1-ca29-489e-8268-41d6f8796fab",
   "metadata": {},
   "outputs": [],
   "source": [
    "response = requests.get(url)"
   ]
  },
  {
   "cell_type": "code",
   "execution_count": 9,
   "id": "ac4c0d45-4c28-4409-8293-9c21a6e59d42",
   "metadata": {},
   "outputs": [],
   "source": [
    "soup = BeautifulSoup(response.text, 'html.parser')"
   ]
  },
  {
   "cell_type": "code",
   "execution_count": 11,
   "id": "951d7ca2-aee2-4d25-b8bc-a2285615cda2",
   "metadata": {},
   "outputs": [],
   "source": [
    "headlines = soup.find_all('h2')"
   ]
  },
  {
   "cell_type": "code",
   "execution_count": 13,
   "id": "e25d4f7b-0a53-4716-ba1f-14f909ef411b",
   "metadata": {},
   "outputs": [],
   "source": [
    "headlines_text = []\n",
    "\n",
    "for headline in headlines:\n",
    "    headlines_text.append(headline.get_text())\n",
    "\n",
    "with open('bbc_headlines.csv', 'w', newline='') as file:\n",
    "    writer = csv.writer(file)\n",
    "    writer.writerow([\"Headlines\"])\n",
    "    for headline in headlines_text:\n",
    "        writer.writerow([headline])"
   ]
  },
  {
   "cell_type": "code",
   "execution_count": 15,
   "id": "6fe75399-d511-4946-91de-d0e1e32a28da",
   "metadata": {},
   "outputs": [
    {
     "name": "stdout",
     "output_type": "stream",
     "text": [
      "Headlines saved to bbc_headlines.csv\n"
     ]
    }
   ],
   "source": [
    "print(\"Headlines saved to bbc_headlines.csv\")"
   ]
  },
  {
   "cell_type": "code",
   "execution_count": null,
   "id": "22edd9cd-29c1-440d-adc6-db95370101b9",
   "metadata": {},
   "outputs": [],
   "source": []
  }
 ],
 "metadata": {
  "kernelspec": {
   "display_name": "Python 3 (ipykernel)",
   "language": "python",
   "name": "python3"
  },
  "language_info": {
   "codemirror_mode": {
    "name": "ipython",
    "version": 3
   },
   "file_extension": ".py",
   "mimetype": "text/x-python",
   "name": "python",
   "nbconvert_exporter": "python",
   "pygments_lexer": "ipython3",
   "version": "3.11.5"
  }
 },
 "nbformat": 4,
 "nbformat_minor": 5
}
